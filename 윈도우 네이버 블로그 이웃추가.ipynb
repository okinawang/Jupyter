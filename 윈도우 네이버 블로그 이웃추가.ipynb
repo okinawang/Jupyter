{
 "cells": [
  {
   "cell_type": "code",
   "execution_count": 1,
   "metadata": {},
   "outputs": [],
   "source": [
    "from selenium import webdriver\n",
    "from bs4 import BeautifulSoup\n",
    "import feedparser\n",
    "import time\n",
    "from selenium.common.exceptions import *\n",
    "from selenium.webdriver.common.keys import Keys\n",
    "from selenium.webdriver.common.action_chains import ActionChains\n",
    "from selenium.common.exceptions import ElementNotVisibleException \n",
    "from selenium.webdriver.common.keys import Keys\n",
    "import pyperclip"
   ]
  },
  {
   "cell_type": "code",
   "execution_count": 2,
   "metadata": {},
   "outputs": [],
   "source": [
    "def login(driver):\n",
    "    driver.get(\"http://nid.naver.com/nidlogin.login\")\n",
    "    login = driver.find_element_by_id('id')\n",
    "    login.clear()"
   ]
  },
  {
   "cell_type": "code",
   "execution_count": 3,
   "metadata": {},
   "outputs": [],
   "source": [
    "######################################################## 주의 사항 \\ -> /\n",
    "path = 'C:/Users/Boot Camp/Downloads/chromedriver.exe' # 크롬 드라이버 설치 경로를 지정합니다.\n",
    "########################################################\n",
    "driver = webdriver.Chrome(path)\n",
    "\n",
    "# 로그인 시도 자동 이웃 추가 시 수동 로그인 필요합니다.\n",
    "login(driver)\n",
    "##################\n",
    "time.sleep(15.0) # 로그인 지연 시간 설정\n",
    "##################"
   ]
  },
  {
   "cell_type": "code",
   "execution_count": 4,
   "metadata": {},
   "outputs": [],
   "source": [
    "def openBuddyListUrl(naverID): # naverID 수정 X\n",
    "    driver.get('https://m.blog.naver.com/BuddyList.nhn?blogId=%s' % (naverID))\n",
    "\n",
    "    \n",
    "# 같은 분야의 블로거의 이웃을 불러오는 것을 추천합니다.\n",
    "#################################\n",
    "openBuddyListUrl('dnjsdnd1225') # 이웃 불러올 블로거 아이디 입력\n",
    "#################################"
   ]
  },
  {
   "cell_type": "code",
   "execution_count": null,
   "metadata": {},
   "outputs": [],
   "source": [
    "def scrollTo(count):\n",
    "    driver.execute_script(\"window.scrollTo(0, 0);\")\n",
    "    \n",
    "    last_height = driver.execute_script(\"return document.body.scrollHeight\")\n",
    "    \n",
    "    for i in range(count):\n",
    "        driver.execute_script(\"window.scrollTo(0, document.body.scrollHeight);\")\n",
    "        time.sleep(0.5)\n",
    "        \n",
    "        new_height = driver.execute_script(\"return document.body.scrollHeight\")\n",
    "        if new_height == last_height:\n",
    "            break\n",
    "        last_height == new_height\n",
    "        \n",
    "# 스크롤 내리는 횟수를 정합니다. 이웃이 적을 경우 count를 조정합니다.\n",
    "# 스크롤 한 번에 대략 20~30명 추출합니다. count=10 200~300명\n",
    "##############\n",
    "scrollTo(10) # 스크롤할 횟수 지정\n",
    "##############"
   ]
  },
  {
   "cell_type": "code",
   "execution_count": null,
   "metadata": {},
   "outputs": [
    {
     "name": "stdout",
     "output_type": "stream",
     "text": [
      "ID 수 180\n"
     ]
    }
   ],
   "source": [
    "def getldsFromBuddyList(source):\n",
    "    bs = BeautifulSoup(source, 'html.parser')\n",
    "    links = bs.findAll('a', class_=\"link\")\n",
    "    \n",
    "    foundIds = []\n",
    "    \n",
    "    for count, link in enumerate(links):\n",
    "        fid = link['href']\n",
    "        id = fid.replace('/', '')\n",
    "        foundIds.append(id)\n",
    "        \n",
    "    return foundIds\n",
    "\n",
    "# 추출된 아이디 갯수를 출력합니다.\n",
    "print('ID 수', len(getldsFromBuddyList(driver.page_source)))\n",
    "\n",
    "# 추출된 아이디 블로그 링크를 기반으로 페이지소스를 생성합니다.\n",
    "ids_list = getldsFromBuddyList(driver.page_source)"
   ]
  },
  {
   "cell_type": "code",
   "execution_count": null,
   "metadata": {},
   "outputs": [
    {
     "name": "stdout",
     "output_type": "stream",
     "text": [
      "ID 수 523\n"
     ]
    }
   ],
   "source": [
    "# 나의 이웃 불러와서 제거 목록에 추가하기\n",
    "# 자동화 과정에서 이웃 제거가 될 수 있는 나의 이웃을 불러와 목록에서 제거합니다.\n",
    "\n",
    "###############################\n",
    "openBuddyListUrl('myisiq999') # 본인 네이버 아이디 입력\n",
    "###############################\n",
    "############## 본인 이웃을 불러옵니다.\n",
    "scrollTo(20) # 스크롤할 횟수 지정\n",
    "##############\n",
    "print('ID 수', len(getldsFromBuddyList(driver.page_source)))\n",
    "aready_list = getldsFromBuddyList(driver.page_source)"
   ]
  },
  {
   "cell_type": "code",
   "execution_count": null,
   "metadata": {
    "scrolled": true
   },
   "outputs": [
    {
     "name": "stdout",
     "output_type": "stream",
     "text": [
      "ellies22 서로 이웃 거절 상태입니다.\n",
      "nau2001 서로 이웃 거절 상태입니다.\n",
      "fkz02 서로 이웃 거절 상태입니다.\n",
      "lolpop02 서로 이웃 거절 상태입니다.\n",
      "lovemasmom 서로 이웃 거절 상태입니다.\n",
      "parkhs43 서로 이웃 거절 상태입니다.\n",
      "hsview 서로 이웃 거절 상태입니다.\n",
      "studio_namoo 서로 이웃 거절 상태입니다.\n",
      "suyss 서로 이웃 거절 상태입니다.\n",
      "bomholics 서로 이웃 거절 상태입니다.\n",
      "lovecyh2354 서로 이웃 거절 상태입니다.\n",
      "freudehko 서로 이웃 거절 상태입니다.\n",
      "brandnewenglish 서로 이웃 거절 상태입니다.\n",
      "busanfoodtour 서로 이웃 거절 상태입니다.\n",
      "myrealtrip 서로 이웃 거절 상태입니다.\n",
      "mrphoto77 서로 이웃 거절 상태입니다.\n",
      "analogbus 서로 이웃 거절 상태입니다.\n",
      "lavenda27 서로 이웃 거절 상태입니다.\n",
      "yjmbebe 서로 이웃 거절 상태입니다.\n",
      "sjlee1629 서로 이웃 거절 상태입니다.\n",
      "nayeon0508 서로 이웃 거절 상태입니다.\n",
      "balotourgolf 서로 이웃 거절 상태입니다.\n",
      "happypudding 서로 이웃 거절 상태입니다.\n",
      "juveniledrea 서로 이웃 거절 상태입니다.\n",
      "ejlf82 서로 이웃 거절 상태입니다.\n",
      "wjdeodjq62 서로 이웃 거절 상태입니다.\n",
      "nayanahanmi 서로 이웃 거절 상태입니다.\n",
      "dw8991 서로 이웃 거절 상태입니다.\n",
      "hulla79 서로 이웃 거절 상태입니다.\n",
      "newbling2 서로 이웃 거절 상태입니다.\n",
      "mailkkw4 서로 이웃 거절 상태입니다.\n",
      "kimayoung78 서로 이웃 거절 상태입니다.\n",
      "onlyonej 서로 이웃 거절 상태입니다.\n",
      "happyoo1621 서로 이웃 거절 상태입니다.\n",
      "friday77 서로 이웃 거절 상태입니다.\n",
      "jsxamh 서로 이웃 거절 상태입니다.\n",
      "sumijj29 서로 이웃 거절 상태입니다.\n",
      "wookame 서로 이웃 거절 상태입니다.\n",
      "aladdinclean 서로 이웃 거절 상태입니다.\n"
     ]
    }
   ],
   "source": [
    "################## 서로이웃 신청 시 기본 멘트 이외에 넣을 멘트를 지정합니다.\n",
    "ment = \"안녕하세요. 저는 경제적 자유를 이루기 위해 \\n투자에 관심두고 있는 30대 직장인 입니다.\\n많은 분들에게 도움이 되고 싶고, \\n이웃이 되어 함께 성장하고 싶습니다. 잘 부탁 드립니다!\" \n",
    "################## \\n 엔터\n",
    "\n",
    "def copy_input(xpath, input):\n",
    "    pyperclip.copy(input)\n",
    "    driver.find_element_by_xpath(xpath).click()\n",
    "    time.sleep(0.5)\n",
    "    ActionChains(driver).key_down(Keys.CONTROL).send_keys('a').key_up(Keys.CONTROL).perform()\n",
    "    ActionChains(driver).key_down(Keys.CONTROL).send_keys('v').key_up(Keys.CONTROL).perform()\n",
    "    \n",
    "for id in ids_list:\n",
    "    if id in aready_list:\n",
    "        pass\n",
    "    else:\n",
    "        try: # 서로 이웃 추가 시도 \n",
    "            driver.get(f\"https://m.blog.naver.com/BuddyAddForm.nhn?blogId={id}&returnUrl=https:%2F%2Fm.blog.naver.com%2F{id}\")\n",
    "            time.sleep(0.5)\n",
    "            driver.find_element_by_id(\"bothBuddyRadio\").click()\n",
    "            time.sleep(0.5) \n",
    "            buddy_ment_xpath = \"//*[@id='buddyAddForm']/fieldset/div/div[2]/div[3]/div/textarea\"\n",
    "            buddy_ment = driver.find_element_by_xpath(buddy_ment_xpath).click()\n",
    "            copy_input(buddy_ment_xpath, ment)\n",
    "            time.sleep(0.5)\n",
    "            buddy_ment = driver.find_element_by_xpath(\"/html/body/ui-view/div[2]/a[2]\").click()\n",
    "            time.sleep(1.0)\n",
    "            \n",
    "        except: # 서로 이웃 차단 패스하기\n",
    "            # 서로 이웃 차단, 이미 추가된 이웃의 경우 pass합니다.\n",
    "            print(id, '서로 이웃 거절 상태입니다.')\n",
    "            pass\n",
    "        "
   ]
  },
  {
   "cell_type": "code",
   "execution_count": null,
   "metadata": {},
   "outputs": [],
   "source": []
  }
 ],
 "metadata": {
  "kernelspec": {
   "display_name": "Python 3",
   "language": "python",
   "name": "python3"
  },
  "language_info": {
   "codemirror_mode": {
    "name": "ipython",
    "version": 3
   },
   "file_extension": ".py",
   "mimetype": "text/x-python",
   "name": "python",
   "nbconvert_exporter": "python",
   "pygments_lexer": "ipython3",
   "version": "3.7.3"
  }
 },
 "nbformat": 4,
 "nbformat_minor": 4
}
